{
 "cells": [
  {
   "cell_type": "code",
   "execution_count": 12,
   "id": "31b824d0-2056-4378-bb2a-31133a58e394",
   "metadata": {},
   "outputs": [],
   "source": [
    "# Import the required libraries to process data:\n",
    "import pandas as pd\n",
    "import numpy as np"
   ]
  },
  {
   "cell_type": "code",
   "execution_count": 13,
   "id": "d3368df3-1976-4876-aa45-671981ecbabf",
   "metadata": {},
   "outputs": [
    {
     "name": "stdout",
     "output_type": "stream",
     "text": [
      "   HeartDiseaseorAttack  HighBP  HighChol  CholCheck   BMI  Smoker  Stroke  \\\n",
      "0                   0.0     1.0       1.0        1.0  40.0     1.0     0.0   \n",
      "1                   0.0     0.0       0.0        0.0  25.0     1.0     0.0   \n",
      "2                   0.0     1.0       1.0        1.0  28.0     0.0     0.0   \n",
      "3                   0.0     1.0       0.0        1.0  27.0     0.0     0.0   \n",
      "4                   0.0     1.0       1.0        1.0  24.0     0.0     0.0   \n",
      "\n",
      "   Diabetes  PhysActivity  Fruits  ...  AnyHealthcare  NoDocbcCost  GenHlth  \\\n",
      "0       0.0           0.0     0.0  ...            1.0          0.0      5.0   \n",
      "1       0.0           1.0     0.0  ...            0.0          1.0      3.0   \n",
      "2       0.0           0.0     1.0  ...            1.0          1.0      5.0   \n",
      "3       0.0           1.0     1.0  ...            1.0          0.0      2.0   \n",
      "4       0.0           1.0     1.0  ...            1.0          0.0      2.0   \n",
      "\n",
      "   MentHlth  PhysHlth  DiffWalk  Sex   Age  Education  Income  \n",
      "0      18.0      15.0       1.0  0.0   9.0        4.0     3.0  \n",
      "1       0.0       0.0       0.0  0.0   7.0        6.0     1.0  \n",
      "2      30.0      30.0       1.0  0.0   9.0        4.0     8.0  \n",
      "3       0.0       0.0       0.0  0.0  11.0        3.0     6.0  \n",
      "4       3.0       0.0       0.0  0.0  11.0        5.0     4.0  \n",
      "\n",
      "[5 rows x 22 columns]\n"
     ]
    }
   ],
   "source": [
    "# Question 1: Get Dataset and convert it from a CSV file into a pd.DataFrame:\n",
    "# 1) Specify the full path to the CSV file\n",
    "file_path = \"/Users/romainkuhne/Documents/pandas_interview_training/myenv/Pandas_interview_prep/heart_disease_health_indicators_BRFSS2015.csv\"\n",
    "# 2) Load the CSV file into a DataFrame\n",
    "df = pd.read_csv(file_path)\n",
    "# Display the first few rows of the DataFrame\n",
    "print(df.head())"
   ]
  },
  {
   "cell_type": "code",
   "execution_count": 14,
   "id": "512e71af-5084-4316-a98e-edbe65f73b64",
   "metadata": {},
   "outputs": [
    {
     "name": "stdout",
     "output_type": "stream",
     "text": [
      "Average F1-Score: 0.04433050483555047\n",
      "Best Fold: 4 with F1-Score: 0.05307599517490953\n",
      "Feature Importances:\n",
      "              Feature  Importance\n",
      "12            GenHlth    0.195981\n",
      "17                Age    0.183359\n",
      "0              HighBP    0.111548\n",
      "15           DiffWalk    0.090642\n",
      "1            HighChol    0.078129\n",
      "14           PhysHlth    0.058675\n",
      "16                Sex    0.058597\n",
      "5            Diabetes    0.055428\n",
      "3                 BMI    0.034218\n",
      "19             Income    0.033048\n",
      "4              Smoker    0.027734\n",
      "13           MentHlth    0.019934\n",
      "18          Education    0.017033\n",
      "6        PhysActivity    0.009405\n",
      "11        NoDocbcCost    0.005892\n",
      "8             Veggies    0.004991\n",
      "7              Fruits    0.004972\n",
      "10      AnyHealthcare    0.004141\n",
      "9   HvyAlcoholConsump    0.003484\n",
      "2           CholCheck    0.002790\n"
     ]
    }
   ],
   "source": [
    "### Question 2: Use the Random forest to determine which features impacts the most the indicence of CV disease:\n",
    "from sklearn.ensemble import RandomForestClassifier\n",
    "from sklearn.model_selection import StratifiedKFold\n",
    "from sklearn.metrics import f1_score\n",
    "\n",
    "# Define features and label\n",
    "X = df.drop([\"HeartDiseaseorAttack\", \"Stroke\"], axis=1)\n",
    "Y = df[\"HeartDiseaseorAttack\"]\n",
    "\n",
    "def perform_stratifiedKFold_with_best_fold(featureSet: pd.DataFrame, labelSet: pd.Series):\n",
    "    skf = StratifiedKFold(n_splits=10, shuffle=True, random_state=42)\n",
    "    f1_scores = []\n",
    "    fold_data = []  # To track indices and scores for each fold\n",
    "\n",
    "    best_fold = None\n",
    "    best_score = -1  # Initialize the best score\n",
    "    \n",
    "    for fold, (train_index, val_index) in enumerate(skf.split(featureSet, labelSet)):\n",
    "        X_train, X_val = featureSet.iloc[train_index], featureSet.iloc[val_index]\n",
    "        Y_train, Y_val = labelSet.iloc[train_index], labelSet.iloc[val_index]\n",
    "        \n",
    "        # Train the model\n",
    "        model = RandomForestClassifier(random_state=42, n_estimators=50, max_depth=10)\n",
    "        model.fit(X_train, Y_train.values.ravel())\n",
    "        \n",
    "        # Evaluate on validation set\n",
    "        y_pred = model.predict(X_val)\n",
    "        fold_f1_score = f1_score(Y_val, y_pred, average='binary')\n",
    "        f1_scores.append(fold_f1_score)\n",
    "        fold_data.append((fold, train_index, val_index, fold_f1_score))\n",
    "        \n",
    "        # Update the best fold if this one performs better\n",
    "        if fold_f1_score > best_score:\n",
    "            best_score = fold_f1_score\n",
    "            best_fold = (fold, train_index, val_index)\n",
    "    \n",
    "    # Print average F1-score across folds\n",
    "    average_f1_score = sum(f1_scores) / len(f1_scores)\n",
    "    print(f\"Average F1-Score: {average_f1_score}\")\n",
    "\n",
    "    # Train on the best fold's data\n",
    "    best_fold_number, best_train_idx, best_val_idx = best_fold\n",
    "    X_train_best = featureSet.iloc[best_train_idx]\n",
    "    Y_train_best = labelSet.iloc[best_train_idx]\n",
    "    best_model = RandomForestClassifier(random_state=42, n_estimators=50, max_depth=10)\n",
    "    best_model.fit(X_train_best, Y_train_best.values.ravel())\n",
    "    \n",
    "    # Feature importance\n",
    "    feature_importances = best_model.feature_importances_\n",
    "    feature_importance_df = pd.DataFrame({\n",
    "        'Feature': featureSet.columns,\n",
    "        'Importance': feature_importances\n",
    "    }).sort_values(by='Importance', ascending=False)\n",
    "\n",
    "    # Print best fold and feature importance\n",
    "    print(f\"Best Fold: {best_fold_number} with F1-Score: {best_score}\")\n",
    "    print(\"Feature Importances:\")\n",
    "    print(feature_importance_df)\n",
    "    \n",
    "    return best_model, feature_importance_df\n",
    "\n",
    "# Call the function\n",
    "best_model, feature_importance_df = perform_stratifiedKFold_with_best_fold(X, Y)\n",
    "\n",
    "    "
   ]
  },
  {
   "cell_type": "code",
   "execution_count": null,
   "id": "1c31a61b-5643-441a-8573-c56895623719",
   "metadata": {},
   "outputs": [],
   "source": []
  }
 ],
 "metadata": {
  "kernelspec": {
   "display_name": "Python 3 (ipykernel)",
   "language": "python",
   "name": "python3"
  },
  "language_info": {
   "codemirror_mode": {
    "name": "ipython",
    "version": 3
   },
   "file_extension": ".py",
   "mimetype": "text/x-python",
   "name": "python",
   "nbconvert_exporter": "python",
   "pygments_lexer": "ipython3",
   "version": "3.13.0"
  }
 },
 "nbformat": 4,
 "nbformat_minor": 5
}
