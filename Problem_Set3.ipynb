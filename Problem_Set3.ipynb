{
 "cells": [
  {
   "cell_type": "code",
   "execution_count": 6,
   "id": "759843a4-d837-4509-b83b-efde32b53ccd",
   "metadata": {},
   "outputs": [],
   "source": [
    "# Import the required libraries to process data:\n",
    "import yfinance as yf\n",
    "import numpy as np\n",
    "import pandas as pd\n",
    "import matplotlib as plt\n",
    "# Import the required libraries to deal with operations on time series:\n",
    "from datetime import datetime, timedelta, date"
   ]
  },
  {
   "cell_type": "code",
   "execution_count": 7,
   "id": "f0b9405c-380d-4df5-b79a-d2da0d126fc7",
   "metadata": {},
   "outputs": [
    {
     "name": "stdout",
     "output_type": "stream",
     "text": [
      "Price       Date        Open        High         Low       Close   Adj Close  \\\n",
      "0     2019-12-04   65.267502   65.827499   65.169998   65.434998   63.438080   \n",
      "1     2019-12-05   65.947502   66.472504   65.682503   66.394997   64.368790   \n",
      "2     2019-12-06   66.870003   67.750000   66.824997   67.677498   65.612167   \n",
      "3     2019-12-09   67.500000   67.699997   66.227501   66.730003   64.693558   \n",
      "4     2019-12-10   67.150002   67.517502   66.464996   67.120003   65.071671   \n",
      "...          ...         ...         ...         ...         ...         ...   \n",
      "3769  2024-11-26  201.899994  208.000000  201.789993  207.860001  207.860001   \n",
      "3770  2024-11-27  206.979996  207.639999  205.050003  205.740005  205.740005   \n",
      "3771  2024-11-29  205.830002  208.199997  204.589996  207.889999  207.889999   \n",
      "3772  2024-12-02  209.960007  212.990005  209.509995  210.710007  210.710007   \n",
      "3773  2024-12-03  210.309998  214.020004  209.649994  213.440002  213.440002   \n",
      "\n",
      "Price Ticker  \n",
      "0       AAPL  \n",
      "1       AAPL  \n",
      "2       AAPL  \n",
      "3       AAPL  \n",
      "4       AAPL  \n",
      "...      ...  \n",
      "3769    AMZN  \n",
      "3770    AMZN  \n",
      "3771    AMZN  \n",
      "3772    AMZN  \n",
      "3773    AMZN  \n",
      "\n",
      "[3774 rows x 7 columns]\n"
     ]
    }
   ],
   "source": [
    "### Question 1:\n",
    "### Choose three stocks to include in a portfolio (e.g., AAPL, TSLA, AMZN) and define their weights (e.g., 50%, 30%, 20%).\n",
    "### Retrieve historical data for the stocks over the past 5 years.\n",
    "\n",
    "def fetch_raw_data(tickers=[\"AAPL\", \"TSLA\", \"AMZN\"]) -> pd.DataFrame:\n",
    "    # 1) Define the time interval = {startDate, endDate}:\n",
    "    endDate = date.today() # Ex: 2024-12-03\n",
    "    startDate = (endDate - pd.DateOffset(years=5)).date() # Ex 2019-12-03\n",
    "\n",
    "    # 2) Instantiate a list to dataframe of each stock:\n",
    "    stock = []\n",
    "    # 3) Iterate over the tickers list to download each stock present:\n",
    "    for ticker in tickers:\n",
    "        try: # 3.1) Attempt to download 5y worth of financial data for the current stock in a pd.DataFrame:\n",
    "            df = yf.download(tickers=ticker, start=startDate, end=endDate, progress=False)\n",
    "            # 3.2) remove the multi index:\n",
    "            if isinstance(df.columns, pd.MultiIndex):\n",
    "                # Only use the first level of the MultiIndex:\n",
    "                df.columns = df.columns.get_level_values(0)\n",
    "\n",
    "            df.reset_index(inplace=True)\n",
    "            # 3.4) Remove unwanted features = {Volume}:\n",
    "            df = df[[\"Date\", \"Open\", \"High\", \"Low\", \"Close\", \"Adj Close\"]]\n",
    "            # 3.5) Add the ticker as column:\n",
    "            df[\"Ticker\"] = ticker\n",
    "            # 3.6) Append the current DataFrame to the stock list:\n",
    "            stock.append(df)\n",
    "        except Exception as e:\n",
    "            print(f\"Error couldn't download {ticker}: {str(e)}\")\n",
    "            continue \n",
    "            \n",
    "    # 4) Return a concatenated DataFrame:\n",
    "    df = pd.concat(stock, ignore_index=True)\n",
    "    return df\n",
    "\n",
    "raw_df = fetch_raw_data()\n",
    "print(raw_df)\n"
   ]
  },
  {
   "cell_type": "code",
   "execution_count": 8,
   "id": "664d75e5-d61e-4e65-bca8-2465e0d5e12c",
   "metadata": {},
   "outputs": [
    {
     "name": "stdout",
     "output_type": "stream",
     "text": [
      "           Date  Portfolio Value\n",
      "0    2019-12-04         1.000000\n",
      "1    2019-12-05         1.002295\n",
      "2    2019-12-06         1.017304\n",
      "3    2019-12-09         1.011894\n",
      "4    2019-12-10         1.018710\n",
      "...         ...              ...\n",
      "1253 2024-11-26         5.607851\n",
      "1254 2024-11-27         5.551499\n",
      "1255 2024-11-29         5.688272\n",
      "1256 2024-12-02         5.823162\n",
      "1257 2024-12-03         5.805507\n",
      "\n",
      "[1258 rows x 2 columns]\n"
     ]
    }
   ],
   "source": [
    "### Question 2:\n",
    "### Calculate Daily Portfolio Value:\n",
    "def compute_daily_portfolio_value(df: pd.DataFrame, weights: list) -> pd.DataFrame:\n",
    "    # 1) Pivot the DataFrame to get Adjusted Close prices in a single matrix:\n",
    "    # Divides each price by the first price in the dataset (row 0). This normalizes all prices to start at 1 on the first date.\n",
    "    prices = df.pivot(index=\"Date\", columns=\"Ticker\", values=\"Adj Close\")\n",
    "    # 2) Normalize and calculate weighted portfolio values in one step:\n",
    "    normalized_prices = prices / prices.iloc[0]\n",
    "    # Multiplies each normalized price by its corresponding weight in the weights list\n",
    "    # For each row (representing a day), it computes the dot product of the row's values (normalized prices) and the weights.\n",
    "    # Ex Day 1: (1.0000 * 0.5) + (1.0000 * 0.3) + (1.0000 * 0.2) = 1.0000\n",
    "    portfolio_value = (normalized_prices * weights).sum(axis=1)  \n",
    "    # 3) Convert the resulting Series into a DataFrame with the desired format:\n",
    "    result = portfolio_value.reset_index()\n",
    "    result = result.rename(columns={0: \"Portfolio Value\"})\n",
    "    return result\n",
    "\n",
    "weights = [0.5, 0.3, 0.2]\n",
    "portfolio_value = compute_daily_portfolio_value(raw_df, weights)\n",
    "print(portfolio_value)"
   ]
  },
  {
   "cell_type": "code",
   "execution_count": 14,
   "id": "fe2e3522-1187-46a9-a15a-7da38f828e5b",
   "metadata": {},
   "outputs": [
    {
     "name": "stdout",
     "output_type": "stream",
     "text": [
      "           Date  Cumulative Return\n",
      "1    2019-12-05           0.002295\n",
      "2    2019-12-06           0.017304\n",
      "3    2019-12-09           0.011894\n",
      "4    2019-12-10           0.018710\n",
      "5    2019-12-11           0.027023\n",
      "...         ...                ...\n",
      "1253 2024-11-26           4.607851\n",
      "1254 2024-11-27           4.551499\n",
      "1255 2024-11-29           4.688272\n",
      "1256 2024-12-02           4.823162\n",
      "1257 2024-12-03           4.805507\n",
      "\n",
      "[1257 rows x 2 columns]\n"
     ]
    }
   ],
   "source": [
    "### Question 3: Compute cumulative value of the portfolio:\n",
    "def compute_cumulative_value(df: pd.DataFrame) -> pd.DataFrame:\n",
    "    # 1) Compute the portfolio daily return:\n",
    "    portfolio_daily_returns = df[\"Portfolio Value\"].pct_change()\n",
    "    # 2) Compute the portfolio cumulative return:\n",
    "    portfolio_cumulative_returns = (1 + portfolio_daily_returns).cumprod() - 1\n",
    "    # 3) Combine with the Date column for a complete DataFrame:\n",
    "    result = pd.DataFrame({\"Date\": df[\"Date\"],\"Cumulative Return\": portfolio_cumulative_returns}).dropna()\n",
    "    # 5) Return the DataFrame\n",
    "    return result\n",
    "\n",
    "portfolio_cumulative_returns = compute_cumulative_value(portfolio_value)\n",
    "print(portfolio_cumulative_returns)"
   ]
  },
  {
   "cell_type": "code",
   "execution_count": 19,
   "id": "071f9ca1-bb7a-48b5-9e41-af125618c9a6",
   "metadata": {},
   "outputs": [
    {
     "name": "stderr",
     "output_type": "stream",
     "text": [
      "\n",
      "1 Failed download:\n",
      "['^GSPC']: SSLError(MaxRetryError(\"HTTPSConnectionPool(host='www.yahoo.com', port=443): Max retries exceeded with url: /?guccounter=1 (Caused by SSLError(SSLEOFError(8, '[SSL: UNEXPECTED_EOF_WHILE_READING] EOF occurred in violation of protocol (_ssl.c:1020)')))\"))\n"
     ]
    },
    {
     "name": "stdout",
     "output_type": "stream",
     "text": [
      "Empty DataFrame\n",
      "Columns: [(Adj Close, ^GSPC), (Close, ^GSPC), (High, ^GSPC), (Low, ^GSPC), (Open, ^GSPC), (Volume, ^GSPC)]\n",
      "Index: []\n"
     ]
    }
   ],
   "source": [
    "### Question 4: Retrieve and compute the index cumulative returns:\n",
    "### GSPC often refers to the S&P 500 Index\n",
    "### used as a benchmark index for comparison in portfolio performance analysis.\n",
    "### Purpose: Determine if portfolio is outperforming the market:\n",
    "def comparison_with_gspc(portfolio_df: pd.DataFrame) -> pd.DataFrame:\n",
    "    # 1) Extract the first and last date from the portfolio DF:\n",
    "    firstDate = portfolio_df[\"Date\"].min()\n",
    "    lastDate = portfolio_df[\"Date\"].max()\n",
    "    # 2) Fetch the GSPC financial data:\n",
    "    gspc_df = yf.download(\"^GSPC\", start=firstDate, end=lastDate, progress=False)\n",
    "    # 3) return gspc:\n",
    "    return gspc_df\n",
    "\n",
    "\n",
    "test = comparison_with_gspc(portfolio_cumulative_returns)\n",
    "print(test)\n",
    "    \n"
   ]
  },
  {
   "cell_type": "code",
   "execution_count": null,
   "id": "41d56baf-31a2-4257-94a4-beef23a35312",
   "metadata": {},
   "outputs": [],
   "source": []
  }
 ],
 "metadata": {
  "kernelspec": {
   "display_name": "Python 3 (ipykernel)",
   "language": "python",
   "name": "python3"
  },
  "language_info": {
   "codemirror_mode": {
    "name": "ipython",
    "version": 3
   },
   "file_extension": ".py",
   "mimetype": "text/x-python",
   "name": "python",
   "nbconvert_exporter": "python",
   "pygments_lexer": "ipython3",
   "version": "3.13.0"
  }
 },
 "nbformat": 4,
 "nbformat_minor": 5
}
